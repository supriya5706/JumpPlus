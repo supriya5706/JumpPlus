{
  "nbformat": 4,
  "nbformat_minor": 0,
  "metadata": {
    "colab": {
      "provenance": [],
      "include_colab_link": true
    },
    "kernelspec": {
      "name": "python3",
      "display_name": "Python 3"
    },
    "language_info": {
      "name": "python"
    }
  },
  "cells": [
    {
      "cell_type": "markdown",
      "metadata": {
        "id": "view-in-github",
        "colab_type": "text"
      },
      "source": [
        "<a href=\"https://colab.research.google.com/github/supriya5706/JumpPlus/blob/main/Data_lake_books.ipynb\" target=\"_parent\"><img src=\"https://colab.research.google.com/assets/colab-badge.svg\" alt=\"Open In Colab\"/></a>"
      ]
    },
    {
      "cell_type": "code",
      "execution_count": null,
      "metadata": {
        "colab": {
          "base_uri": "https://localhost:8080/"
        },
        "id": "pbE2uZ-03jy0",
        "outputId": "7d203d0c-0146-431c-bbd6-4ec6c6213be8"
      },
      "outputs": [
        {
          "output_type": "stream",
          "name": "stdout",
          "text": [
            "Looking in indexes: https://pypi.org/simple, https://us-python.pkg.dev/colab-wheels/public/simple/\n",
            "Requirement already satisfied: pyspark in /usr/local/lib/python3.8/dist-packages (3.3.2)\n",
            "Requirement already satisfied: py4j==0.10.9.5 in /usr/local/lib/python3.8/dist-packages (from pyspark) (0.10.9.5)\n"
          ]
        }
      ],
      "source": [
        "!pip install pyspark"
      ]
    },
    {
      "cell_type": "code",
      "source": [
        "#import sparksession to work with dataframe\n",
        "from pyspark.sql import SparkSession\n",
        "#create a SparkSession object in PySpark \n",
        "spark = SparkSession.builder.master(\"local[*]\").getOrCreate()\n",
        "spark = SparkSession.builder\\\n",
        "        .master(\"local\")\\\n",
        "        .appName(\"Colab\")\\\n",
        "        .config('spark.ui.port', '4050')\\\n",
        "        .getOrCreate()\n",
        "spark "
      ],
      "metadata": {
        "colab": {
          "base_uri": "https://localhost:8080/",
          "height": 219
        },
        "id": "399h2w9s5LBG",
        "outputId": "1ac405be-67f4-4933-9b51-af27e2250b13"
      },
      "execution_count": null,
      "outputs": [
        {
          "output_type": "execute_result",
          "data": {
            "text/plain": [
              "<pyspark.sql.session.SparkSession at 0x7ff38415c3a0>"
            ],
            "text/html": [
              "\n",
              "            <div>\n",
              "                <p><b>SparkSession - in-memory</b></p>\n",
              "                \n",
              "        <div>\n",
              "            <p><b>SparkContext</b></p>\n",
              "\n",
              "            <p><a href=\"http://accbeda639bb:4040\">Spark UI</a></p>\n",
              "\n",
              "            <dl>\n",
              "              <dt>Version</dt>\n",
              "                <dd><code>v3.3.2</code></dd>\n",
              "              <dt>Master</dt>\n",
              "                <dd><code>local[*]</code></dd>\n",
              "              <dt>AppName</dt>\n",
              "                <dd><code>pyspark-shell</code></dd>\n",
              "            </dl>\n",
              "        </div>\n",
              "        \n",
              "            </div>\n",
              "        "
            ]
          },
          "metadata": {},
          "execution_count": 540
        }
      ]
    },
    {
      "cell_type": "code",
      "source": [
        "#importing pyspark function to perform all the operations on DataFrame\n",
        "from pyspark.sql.functions import *\n"
      ],
      "metadata": {
        "id": "O3r-1HB45RDd"
      },
      "execution_count": null,
      "outputs": []
    },
    {
      "cell_type": "code",
      "source": [
        "#importing data set\n",
        "books = spark.read.csv(\"/content/data_lake.cvs\", header=True, inferSchema=True) \n",
        "books"
      ],
      "metadata": {
        "colab": {
          "base_uri": "https://localhost:8080/"
        },
        "id": "AkIshtDM5fr8",
        "outputId": "97c0670d-285b-48e4-a0f8-ec8d14b9525b"
      },
      "execution_count": null,
      "outputs": [
        {
          "output_type": "execute_result",
          "data": {
            "text/plain": [
              "DataFrame[_c0: int, Unnamed: 0: double, item_id: double, name: string, category: string, price5: double, old_price: string, sellable_online: boolean, link: string, other_colors: string, short_description: string, designer: string, depth: string, height: double, width: double, Pokemon: string, Card Type: string, Generation: string, Card Number: string, Price19: double, ranks: double, title: string, no_of_reviews: string, ratings: string, author: string, cover_type: string, year: string, genre: string, date: string, product: string, market: string, size: string]"
            ]
          },
          "metadata": {},
          "execution_count": 542
        }
      ]
    },
    {
      "cell_type": "code",
      "source": [
        "#mounting google drive to Colab environment \n",
        "from google.colab import drive\n",
        "drive.mount('/content/drive')"
      ],
      "metadata": {
        "id": "YbFpiwvDUhU6",
        "colab": {
          "base_uri": "https://localhost:8080/"
        },
        "outputId": "96c341d1-9d63-4b0a-d70a-217e7426cb1c"
      },
      "execution_count": null,
      "outputs": [
        {
          "output_type": "stream",
          "name": "stdout",
          "text": [
            "Drive already mounted at /content/drive; to attempt to forcibly remount, call drive.mount(\"/content/drive\", force_remount=True).\n"
          ]
        }
      ]
    },
    {
      "cell_type": "code",
      "source": [
        "type(books)\n"
      ],
      "metadata": {
        "id": "otzsGlct6Cod",
        "colab": {
          "base_uri": "https://localhost:8080/"
        },
        "outputId": "b2a4968c-a7d3-4d53-abe4-3ee6458eeae0"
      },
      "execution_count": null,
      "outputs": [
        {
          "output_type": "execute_result",
          "data": {
            "text/plain": [
              "pyspark.sql.dataframe.DataFrame"
            ]
          },
          "metadata": {},
          "execution_count": 544
        }
      ]
    },
    {
      "cell_type": "code",
      "source": [
        "#displaying data frame \n",
        "books.show()"
      ],
      "metadata": {
        "id": "mDxrXyiUQ5f1",
        "colab": {
          "base_uri": "https://localhost:8080/"
        },
        "outputId": "dd443038-f2ae-4fee-c9dd-73ea104f2f81"
      },
      "execution_count": null,
      "outputs": [
        {
          "output_type": "stream",
          "name": "stdout",
          "text": [
            "+---+----------+-----------+--------------------+-------------+------+------------+---------------+--------------------+------------+--------------------+--------------------+-----+------+-----+-------+---------+----------+-----------+-------+-----+-----+-------------+-------+------+----------+----+-----+----+-------+------+----+\n",
            "|_c0|Unnamed: 0|    item_id|                name|     category|price5|   old_price|sellable_online|                link|other_colors|   short_description|            designer|depth|height|width|Pokemon|Card Type|Generation|Card Number|Price19|ranks|title|no_of_reviews|ratings|author|cover_type|year|genre|date|product|market|size|\n",
            "+---+----------+-----------+--------------------+-------------+------+------------+---------------+--------------------+------------+--------------------+--------------------+-----+------+-----+-------+---------+----------+-----------+-------+-----+-----+-------------+-------+------+----------+----+-----+----+-------+------+----+\n",
            "|  0|       0.0|9.0420332E7|            FREKVENS|Bar furniture| 265.0|No old price|           true|https://www.ikea....|          No|        Bar table...|Nicholai Wiig Hansen| null|  99.0| 51.0|   null|     null|      null|       null|   null| null| null|         null|   null|  null|      null|null| null|null|   null|  null|null|\n",
            "|  1|       1.0|   368814.0|           NORDVIKEN|Bar furniture| 995.0|No old price|          false|https://www.ikea....|          No|        Bar table...|   Francis Cayouette| null| 105.0| 80.0|   null|     null|      null|       null|   null| null| null|         null|   null|  null|      null|null| null|null|   null|  null|null|\n",
            "|  2|       2.0|  9333523.0|NORDVIKEN / NORDV...|Bar furniture|2095.0|No old price|          false|https://www.ikea....|          No|        Bar table...|   Francis Cayouette| null|  null| null|   null|     null|      null|       null|   null| null| null|         null|   null|  null|      null|null| null|null|   null|  null|null|\n",
            "|  3|       3.0|8.0155205E7|                STIG|Bar furniture|  69.0|No old price|           true|https://www.ikea....|         Yes|        Bar stool...|       Henrik Preutz| 50.0| 100.0| 60.0|   null|     null|      null|       null|   null| null| null|         null|   null|  null|      null|null| null|null|   null|  null|null|\n",
            "|  4|       4.0|3.0180504E7|             NORBERG|Bar furniture| 225.0|No old price|           true|https://www.ikea....|          No|        Wall-moun...|      Marcus Arvonen| 60.0|  43.0| 74.0|   null|     null|      null|       null|   null| null| null|         null|   null|  null|      null|null| null|null|   null|  null|null|\n",
            "|  5|       5.0|1.0122647E7|              INGOLF|Bar furniture| 345.0|No old price|           true|https://www.ikea....|          No|        Bar stool...|        Carina Bengs| 45.0|  91.0| 40.0|   null|     null|      null|       null|   null| null| null|         null|   null|  null|      null|null| null|null|   null|  null|null|\n",
            "|  6|       6.0|7.0404875E7|            FRANKLIN|Bar furniture| 129.0|No old price|           true|https://www.ikea....|          No|        Bar stool...| K Hagberg/M Hagberg| 44.0|  95.0| 50.0|   null|     null|      null|       null|   null| null| null|         null|   null|  null|      null|null| null|null|   null|  null|null|\n",
            "|  7|       7.0|6.0155602E7|             DALFRED|Bar furniture| 195.0|No old price|           true|https://www.ikea....|          No|        Bar stool...|         Sarah Fager| 50.0|  null| 50.0|   null|     null|      null|       null|   null| null| null|         null|   null|  null|      null|null| null|null|   null|  null|null|\n",
            "|  8|       8.0|5.0406465E7|            FRANKLIN|Bar furniture| 129.0|No old price|           true|https://www.ikea....|          No|        Bar stool...| K Hagberg/M Hagberg| 44.0|  95.0| 50.0|   null|     null|      null|       null|   null| null| null|         null|   null|  null|      null|null| null|null|   null|  null|null|\n",
            "|  9|       9.0|6.9304221E7| EKEDALEN / EKEDALEN|Bar furniture|2176.0|    SR 2,375|           true|https://www.ikea....|          No|        Bar table...|     Ehlén Johansson| null|  null| null|   null|     null|      null|       null|   null| null| null|         null|   null|  null|      null|null| null|null|   null|  null|null|\n",
            "| 10|      10.0|9.0404879E7|            FRANKLIN|Bar furniture| 149.0|No old price|           true|https://www.ikea....|          No|        Bar stool...| K Hagberg/M Hagberg| 44.0| 103.0| 52.0|   null|     null|      null|       null|   null| null| null|         null|   null|  null|      null|null| null|null|   null|  null|null|\n",
            "| 11|      11.0|   121766.0|              INGOLF|Bar furniture| 395.0|No old price|           true|https://www.ikea....|          No|        Bar stool...|        Carina Bengs| 45.0| 102.0| 40.0|   null|     null|      null|       null|   null| null| null|         null|   null|  null|      null|null| null|null|   null|  null|null|\n",
            "| 12|      12.0|   397736.0|            NORRARYD|Bar furniture| 395.0|No old price|           true|https://www.ikea....|          No|        Bar stool...|       Nike Karlsson| 47.0| 103.0| 46.0|   null|     null|      null|       null|   null| null| null|         null|   null|  null|      null|null| null|null|   null|  null|null|\n",
            "| 13|      13.0|5.0420329E7|            FREKVENS|Bar furniture| 177.0|      SR 295|           true|https://www.ikea....|          No|        Bar stool...|Nicholai Wiig Hansen| 53.0| 104.0| 43.0|   null|     null|      null|       null|   null| null| null|         null|   null|  null|      null|null| null|null|   null|  null|null|\n",
            "| 14|      14.0|   400550.0|            EKEDALEN|Bar furniture| 345.0|No old price|           true|https://www.ikea....|          No|        Bar stool...|     Ehlén Johansson| 52.0| 114.0| 43.0|   null|     null|      null|       null|   null| null| null|         null|   null|  null|      null|null| null|null|   null|  null|null|\n",
            "| 15|      15.0|2.9304826E7|            TOMMARYD|Bar furniture| 695.0|No old price|           true|https://www.ikea....|          No|        Table,   ...|     Maja Ganszyniec| null| 105.0| 70.0|   null|     null|      null|       null|   null| null| null|         null|   null|  null|      null|null| null|null|   null|  null|null|\n",
            "| 16|      16.0|4.0426138E7|          HENRIKSDAL|Bar furniture| 395.0|No old price|           true|https://www.ikea....|          No|        Bar stool...|       Karl Malmvall| 51.0| 102.0| 40.0|   null|     null|      null|       null|   null| null| null|         null|   null|  null|      null|null| null|null|   null|  null|null|\n",
            "| 17|      17.0|5.0363649E7|           KULLABERG|Bar furniture| 140.0|      SR 175|           true|https://www.ikea....|         Yes|               Stool|         Sarah Fager| 36.0|  null| 36.0|   null|     null|      null|       null|   null| null| null|         null|   null|  null|      null|null| null|null|   null|  null|null|\n",
            "| 18|      18.0|7.0246089E7|             JANINGE|Bar furniture| 595.0|No old price|           true|https://www.ikea....|          No|        Bar stool...|John/Jonas/Petrus...| 36.0|  84.0| 38.0|   null|     null|      null|       null|   null| null| null|         null|   null|  null|      null|null| null|null|   null|  null|null|\n",
            "| 19|      19.0|6.0406785E7|            FRANKLIN|Bar furniture| 149.0|No old price|           true|https://www.ikea....|          No|        Bar stool...| K Hagberg/M Hagberg| 44.0| 103.0| 52.0|   null|     null|      null|       null|   null| null| null|         null|   null|  null|      null|null| null|null|   null|  null|null|\n",
            "+---+----------+-----------+--------------------+-------------+------+------------+---------------+--------------------+------------+--------------------+--------------------+-----+------+-----+-------+---------+----------+-----------+-------+-----+-----+-------------+-------+------+----------+----+-----+----+-------+------+----+\n",
            "only showing top 20 rows\n",
            "\n"
          ]
        }
      ]
    },
    {
      "cell_type": "code",
      "source": [
        " # Select the columns for books dataset\n",
        "book_df = books.select([\"title\", \"author\",\"ratings\",\"genre\",\"price5\",\"cover_type\",\"ranks\",\"year\",\"no_of_reviews\"])\n",
        "book_df.show()"
      ],
      "metadata": {
        "id": "UA77m6636CgO",
        "colab": {
          "base_uri": "https://localhost:8080/"
        },
        "outputId": "8a1c9298-c8a0-42d5-e58f-2edbe0c1a6ea"
      },
      "execution_count": null,
      "outputs": [
        {
          "output_type": "stream",
          "name": "stdout",
          "text": [
            "+-----+------+-------+-----+------+----------+-----+----+-------------+\n",
            "|title|author|ratings|genre|price5|cover_type|ranks|year|no_of_reviews|\n",
            "+-----+------+-------+-----+------+----------+-----+----+-------------+\n",
            "| null|  null|   null| null| 265.0|      null| null|null|         null|\n",
            "| null|  null|   null| null| 995.0|      null| null|null|         null|\n",
            "| null|  null|   null| null|2095.0|      null| null|null|         null|\n",
            "| null|  null|   null| null|  69.0|      null| null|null|         null|\n",
            "| null|  null|   null| null| 225.0|      null| null|null|         null|\n",
            "| null|  null|   null| null| 345.0|      null| null|null|         null|\n",
            "| null|  null|   null| null| 129.0|      null| null|null|         null|\n",
            "| null|  null|   null| null| 195.0|      null| null|null|         null|\n",
            "| null|  null|   null| null| 129.0|      null| null|null|         null|\n",
            "| null|  null|   null| null|2176.0|      null| null|null|         null|\n",
            "| null|  null|   null| null| 149.0|      null| null|null|         null|\n",
            "| null|  null|   null| null| 395.0|      null| null|null|         null|\n",
            "| null|  null|   null| null| 395.0|      null| null|null|         null|\n",
            "| null|  null|   null| null| 177.0|      null| null|null|         null|\n",
            "| null|  null|   null| null| 345.0|      null| null|null|         null|\n",
            "| null|  null|   null| null| 695.0|      null| null|null|         null|\n",
            "| null|  null|   null| null| 395.0|      null| null|null|         null|\n",
            "| null|  null|   null| null| 140.0|      null| null|null|         null|\n",
            "| null|  null|   null| null| 595.0|      null| null|null|         null|\n",
            "| null|  null|   null| null| 149.0|      null| null|null|         null|\n",
            "+-----+------+-------+-----+------+----------+-----+----+-------------+\n",
            "only showing top 20 rows\n",
            "\n"
          ]
        }
      ]
    },
    {
      "cell_type": "markdown",
      "source": [
        "  ---------------------------Data Cleaning---------------------------------"
      ],
      "metadata": {
        "id": "A1tuCNvpZI1v"
      }
    },
    {
      "cell_type": "code",
      "source": [
        "# Find Count of Null, None, NaN in df columns\n",
        "from pyspark.sql.functions import col,isnan, when, count\n",
        "book_df.select([count(when(isnan(c) | col(c).isNull(), c)).alias(c) for c in book_df.columns]\n",
        "   ).show()"
      ],
      "metadata": {
        "id": "kc9BryxPEU03",
        "colab": {
          "base_uri": "https://localhost:8080/"
        },
        "outputId": "585c40e7-3f28-47e2-8c2d-eb47ca8cc292"
      },
      "execution_count": null,
      "outputs": [
        {
          "output_type": "stream",
          "name": "stdout",
          "text": [
            "+-----+------+-------+-----+------+----------+-----+-----+-------------+\n",
            "|title|author|ratings|genre|price5|cover_type|ranks| year|no_of_reviews|\n",
            "+-----+------+-------+-----+------+----------+-----+-----+-------------+\n",
            "|91229| 91229|  91228|91227| 40829|     91229|91228|91224|        91228|\n",
            "+-----+------+-------+-----+------+----------+-----+-----+-------------+\n",
            "\n"
          ]
        }
      ]
    },
    {
      "cell_type": "code",
      "source": [
        "#Removing null values from DataFrame\n",
        "book_df = book_df.dropna(subset=[\"title\", \"author\",\"ratings\",\"genre\",\"price5\",\"cover_type\",\"ranks\",\"year\",\"no_of_reviews\"])\n"
      ],
      "metadata": {
        "id": "dng-LIhCaG3h"
      },
      "execution_count": null,
      "outputs": []
    },
    {
      "cell_type": "code",
      "source": [
        "#show data set afetr dropping null values\n",
        "book_df.show()"
      ],
      "metadata": {
        "id": "xacWpNAxaXOw",
        "colab": {
          "base_uri": "https://localhost:8080/"
        },
        "outputId": "461efe00-d28d-4212-f5b2-ce5266168cd9"
      },
      "execution_count": null,
      "outputs": [
        {
          "output_type": "stream",
          "name": "stdout",
          "text": [
            "+--------------------+----------------+-------+-----------+------+----------+-----+------+-------------+\n",
            "|               title|          author|ratings|      genre|price5|cover_type|ranks|  year|no_of_reviews|\n",
            "+--------------------+----------------+-------+-----------+------+----------+-----+------+-------------+\n",
            "|     The Lost Symbol|       Dan Brown|    4.4|    Fiction| 12.49| Hardcover|  1.0|2009.0|       16,118|\n",
            "|The Shack: Where ...|William P. Young|    4.7|    Fiction|  13.4| Paperback|  2.0|2009.0|       23,392|\n",
            "|Liberty and Tyran...|   Mark R. Levin|    4.8|Non Fiction|  9.93| Hardcover|  3.0|2009.0|        5,036|\n",
            "|Breaking Dawn (Th...| Stephenie Meyer|    4.7|    Fiction|  14.3| Hardcover|  4.0|2009.0|       16,912|\n",
            "|Going Rogue: An A...|     Sarah Palin|    4.6|Non Fiction|  9.99| Hardcover|  5.0|2009.0|        1,572|\n",
            "| StrengthsFinder 2.0|          Gallup|    4.1|Non Fiction| 18.29| Hardcover|  6.0|2009.0|        7,082|\n",
            "|            The Help|Kathryn Stockett|    4.8|    Fiction| 12.66| Hardcover|  7.0|2009.0|       18,068|\n",
            "|New Moon (The Twi...| Stephenie Meyer|    4.7|    Fiction| 17.56| Paperback|  8.0|2009.0|       12,329|\n",
            "|The Twilight Saga...| Stephenie Meyer|    4.7|    Fiction|  58.9| Hardcover|  9.0|2009.0|        6,100|\n",
            "|Outliers: The Sto...|Malcolm Gladwell|    4.7|Non Fiction| 16.04| Hardcover| 10.0|2009.0|       22,209|\n",
            "|  Eclipse (Twilight)| Stephenie Meyer|    4.7|    Fiction| 19.62| Hardcover| 11.0|2009.0|       12,771|\n",
            "|Twilight (The Twi...| Stephenie Meyer|    4.7|    Fiction| 15.49| Paperback| 12.0|2009.0|       22,103|\n",
            "|Glenn Beck's Comm...|      Glenn Beck|    4.6|Non Fiction|  5.91| Paperback| 13.0|2009.0|        1,421|\n",
            "|Three Cups of Tea...|  Greg Mortenson|    4.4|Non Fiction| 11.49| Paperback| 14.0|2009.0|        3,497|\n",
            "|       The Love Dare|Stephen Kendrick|    4.8|Non Fiction| 11.78| Paperback| 15.0|2009.0|        3,298|\n",
            "|Act Like a Lady, ...|    Steve Harvey|    4.6|Non Fiction| 20.45| Hardcover| 16.0|2009.0|        7,043|\n",
            "|Dog Days (Diary o...|     Jeff Kinney|    4.7|    Fiction|  11.6| Hardcover| 17.0|2009.0|        7,979|\n",
            "|Under the Dome: A...|    Stephen King|    4.4|    Fiction| 31.61| Hardcover| 18.0|2009.0|        9,110|\n",
            "|The Guernsey Lite...|Mary Ann Shaffer|    4.7|    Fiction| 10.42| Paperback| 19.0|2009.0|       14,884|\n",
            "|Eat This Not That...| David Zinczenko|    4.5|Non Fiction| 10.76| Paperback| 20.0|2009.0|          929|\n",
            "+--------------------+----------------+-------+-----------+------+----------+-----+------+-------------+\n",
            "only showing top 20 rows\n",
            "\n"
          ]
        }
      ]
    },
    {
      "cell_type": "code",
      "source": [
        "# Count the number of rows in the original DataFrame\n",
        "num_rows_original = book_df.count()\n",
        "num_rows_original"
      ],
      "metadata": {
        "id": "UMlXC0AYX64h",
        "colab": {
          "base_uri": "https://localhost:8080/"
        },
        "outputId": "efe1f7ee-eea8-4761-e5c4-40343c3781d1"
      },
      "execution_count": null,
      "outputs": [
        {
          "output_type": "execute_result",
          "data": {
            "text/plain": [
              "1285"
            ]
          },
          "metadata": {},
          "execution_count": 550
        }
      ]
    },
    {
      "cell_type": "code",
      "source": [
        "# Find duplicatesbased on the title column\n",
        "df_duplicates = book_df.dropDuplicates([\"Book_Title\"])\n"
      ],
      "metadata": {
        "id": "Y7JvGtJZYIey"
      },
      "execution_count": null,
      "outputs": []
    },
    {
      "cell_type": "code",
      "source": [
        "# Count the number of rows in the new DataFrame\n",
        "num_rows_duplicates = df_duplicates.count()\n",
        "num_rows_duplicates"
      ],
      "metadata": {
        "id": "_0DJaemQYU15",
        "colab": {
          "base_uri": "https://localhost:8080/"
        },
        "outputId": "872f6fe7-f7e8-428b-c55b-5ab7fb2f1ff9"
      },
      "execution_count": null,
      "outputs": [
        {
          "output_type": "execute_result",
          "data": {
            "text/plain": [
              "743"
            ]
          },
          "metadata": {},
          "execution_count": 552
        }
      ]
    },
    {
      "cell_type": "code",
      "source": [
        "#changing data set column name \n",
        "\n",
        "# create a dictionary with the old column names as keys and new column names as values\n",
        "replace_name_dict = {'title': 'Book_Title', 'author': 'Book_Author','ratings':'Book_Rating','genre':'Book_Genre','price5':'Book_Price','cover_type':'Book_Cover_Type','ranks':'Book_Ranks','year':'Book_Release_Year','no_of_reviews':'Book_Review_Number'}\n",
        "\n",
        "# use a for loop to iterate over the dictionary and rename the columns using withColumnRenamed()\n",
        "for old_name, new_name in replace_name_dict.items():\n",
        "   book_df = book_df.withColumnRenamed(old_name, new_name)\n"
      ],
      "metadata": {
        "id": "CZl3lnLLczlQ"
      },
      "execution_count": null,
      "outputs": []
    },
    {
      "cell_type": "code",
      "source": [
        "book_df.show()"
      ],
      "metadata": {
        "id": "I11vei07c3-h",
        "colab": {
          "base_uri": "https://localhost:8080/"
        },
        "outputId": "f30fa315-26b1-4ecb-fe6d-948aa8734916"
      },
      "execution_count": null,
      "outputs": [
        {
          "output_type": "stream",
          "name": "stdout",
          "text": [
            "+--------------------+----------------+-----------+-----------+----------+---------------+----------+-----------------+------------------+\n",
            "|          Book_Title|     Book_Author|Book_Rating| Book_Genre|Book_Price|Book_Cover_Type|Book_Ranks|Book_Release_Year|Book_Review_Number|\n",
            "+--------------------+----------------+-----------+-----------+----------+---------------+----------+-----------------+------------------+\n",
            "|     The Lost Symbol|       Dan Brown|        4.4|    Fiction|     12.49|      Hardcover|       1.0|           2009.0|            16,118|\n",
            "|The Shack: Where ...|William P. Young|        4.7|    Fiction|      13.4|      Paperback|       2.0|           2009.0|            23,392|\n",
            "|Liberty and Tyran...|   Mark R. Levin|        4.8|Non Fiction|      9.93|      Hardcover|       3.0|           2009.0|             5,036|\n",
            "|Breaking Dawn (Th...| Stephenie Meyer|        4.7|    Fiction|      14.3|      Hardcover|       4.0|           2009.0|            16,912|\n",
            "|Going Rogue: An A...|     Sarah Palin|        4.6|Non Fiction|      9.99|      Hardcover|       5.0|           2009.0|             1,572|\n",
            "| StrengthsFinder 2.0|          Gallup|        4.1|Non Fiction|     18.29|      Hardcover|       6.0|           2009.0|             7,082|\n",
            "|            The Help|Kathryn Stockett|        4.8|    Fiction|     12.66|      Hardcover|       7.0|           2009.0|            18,068|\n",
            "|New Moon (The Twi...| Stephenie Meyer|        4.7|    Fiction|     17.56|      Paperback|       8.0|           2009.0|            12,329|\n",
            "|The Twilight Saga...| Stephenie Meyer|        4.7|    Fiction|      58.9|      Hardcover|       9.0|           2009.0|             6,100|\n",
            "|Outliers: The Sto...|Malcolm Gladwell|        4.7|Non Fiction|     16.04|      Hardcover|      10.0|           2009.0|            22,209|\n",
            "|  Eclipse (Twilight)| Stephenie Meyer|        4.7|    Fiction|     19.62|      Hardcover|      11.0|           2009.0|            12,771|\n",
            "|Twilight (The Twi...| Stephenie Meyer|        4.7|    Fiction|     15.49|      Paperback|      12.0|           2009.0|            22,103|\n",
            "|Glenn Beck's Comm...|      Glenn Beck|        4.6|Non Fiction|      5.91|      Paperback|      13.0|           2009.0|             1,421|\n",
            "|Three Cups of Tea...|  Greg Mortenson|        4.4|Non Fiction|     11.49|      Paperback|      14.0|           2009.0|             3,497|\n",
            "|       The Love Dare|Stephen Kendrick|        4.8|Non Fiction|     11.78|      Paperback|      15.0|           2009.0|             3,298|\n",
            "|Act Like a Lady, ...|    Steve Harvey|        4.6|Non Fiction|     20.45|      Hardcover|      16.0|           2009.0|             7,043|\n",
            "|Dog Days (Diary o...|     Jeff Kinney|        4.7|    Fiction|      11.6|      Hardcover|      17.0|           2009.0|             7,979|\n",
            "|Under the Dome: A...|    Stephen King|        4.4|    Fiction|     31.61|      Hardcover|      18.0|           2009.0|             9,110|\n",
            "|The Guernsey Lite...|Mary Ann Shaffer|        4.7|    Fiction|     10.42|      Paperback|      19.0|           2009.0|            14,884|\n",
            "|Eat This Not That...| David Zinczenko|        4.5|Non Fiction|     10.76|      Paperback|      20.0|           2009.0|               929|\n",
            "+--------------------+----------------+-----------+-----------+----------+---------------+----------+-----------------+------------------+\n",
            "only showing top 20 rows\n",
            "\n"
          ]
        }
      ]
    },
    {
      "cell_type": "code",
      "source": [
        "#removing unwated obervation\n",
        "# Filter out bad data \n",
        "book_df = book_df.filter(col(\"Book_Author\") != \"22,268\")\n",
        "book_df = book_df.filter(col(\"Book_Author\") != \"4.4\")\n"
      ],
      "metadata": {
        "id": "h6cl9jujdjNy"
      },
      "execution_count": null,
      "outputs": []
    },
    {
      "cell_type": "code",
      "source": [
        "#displayed DataFrame after deleting raws\n",
        "book_df.show()"
      ],
      "metadata": {
        "id": "d0GdpuWldqwo",
        "colab": {
          "base_uri": "https://localhost:8080/"
        },
        "outputId": "357e4684-a35f-4286-dabc-b8efc9d6d455"
      },
      "execution_count": null,
      "outputs": [
        {
          "output_type": "stream",
          "name": "stdout",
          "text": [
            "+--------------------+----------------+-----------+-----------+----------+---------------+----------+-----------------+------------------+\n",
            "|          Book_Title|     Book_Author|Book_Rating| Book_Genre|Book_Price|Book_Cover_Type|Book_Ranks|Book_Release_Year|Book_Review_Number|\n",
            "+--------------------+----------------+-----------+-----------+----------+---------------+----------+-----------------+------------------+\n",
            "|     The Lost Symbol|       Dan Brown|        4.4|    Fiction|     12.49|      Hardcover|       1.0|           2009.0|            16,118|\n",
            "|The Shack: Where ...|William P. Young|        4.7|    Fiction|      13.4|      Paperback|       2.0|           2009.0|            23,392|\n",
            "|Liberty and Tyran...|   Mark R. Levin|        4.8|Non Fiction|      9.93|      Hardcover|       3.0|           2009.0|             5,036|\n",
            "|Breaking Dawn (Th...| Stephenie Meyer|        4.7|    Fiction|      14.3|      Hardcover|       4.0|           2009.0|            16,912|\n",
            "|Going Rogue: An A...|     Sarah Palin|        4.6|Non Fiction|      9.99|      Hardcover|       5.0|           2009.0|             1,572|\n",
            "| StrengthsFinder 2.0|          Gallup|        4.1|Non Fiction|     18.29|      Hardcover|       6.0|           2009.0|             7,082|\n",
            "|            The Help|Kathryn Stockett|        4.8|    Fiction|     12.66|      Hardcover|       7.0|           2009.0|            18,068|\n",
            "|New Moon (The Twi...| Stephenie Meyer|        4.7|    Fiction|     17.56|      Paperback|       8.0|           2009.0|            12,329|\n",
            "|The Twilight Saga...| Stephenie Meyer|        4.7|    Fiction|      58.9|      Hardcover|       9.0|           2009.0|             6,100|\n",
            "|Outliers: The Sto...|Malcolm Gladwell|        4.7|Non Fiction|     16.04|      Hardcover|      10.0|           2009.0|            22,209|\n",
            "|  Eclipse (Twilight)| Stephenie Meyer|        4.7|    Fiction|     19.62|      Hardcover|      11.0|           2009.0|            12,771|\n",
            "|Twilight (The Twi...| Stephenie Meyer|        4.7|    Fiction|     15.49|      Paperback|      12.0|           2009.0|            22,103|\n",
            "|Glenn Beck's Comm...|      Glenn Beck|        4.6|Non Fiction|      5.91|      Paperback|      13.0|           2009.0|             1,421|\n",
            "|Three Cups of Tea...|  Greg Mortenson|        4.4|Non Fiction|     11.49|      Paperback|      14.0|           2009.0|             3,497|\n",
            "|       The Love Dare|Stephen Kendrick|        4.8|Non Fiction|     11.78|      Paperback|      15.0|           2009.0|             3,298|\n",
            "|Act Like a Lady, ...|    Steve Harvey|        4.6|Non Fiction|     20.45|      Hardcover|      16.0|           2009.0|             7,043|\n",
            "|Dog Days (Diary o...|     Jeff Kinney|        4.7|    Fiction|      11.6|      Hardcover|      17.0|           2009.0|             7,979|\n",
            "|Under the Dome: A...|    Stephen King|        4.4|    Fiction|     31.61|      Hardcover|      18.0|           2009.0|             9,110|\n",
            "|The Guernsey Lite...|Mary Ann Shaffer|        4.7|    Fiction|     10.42|      Paperback|      19.0|           2009.0|            14,884|\n",
            "|Eat This Not That...| David Zinczenko|        4.5|Non Fiction|     10.76|      Paperback|      20.0|           2009.0|               929|\n",
            "+--------------------+----------------+-----------+-----------+----------+---------------+----------+-----------------+------------------+\n",
            "only showing top 20 rows\n",
            "\n"
          ]
        }
      ]
    },
    {
      "cell_type": "code",
      "source": [
        "#checking columns types\n",
        "book_df.describe()"
      ],
      "metadata": {
        "colab": {
          "base_uri": "https://localhost:8080/"
        },
        "id": "kkOsNyrKoT0I",
        "outputId": "c45de58c-f096-4375-82ff-9d541b3bbe70"
      },
      "execution_count": null,
      "outputs": [
        {
          "output_type": "execute_result",
          "data": {
            "text/plain": [
              "DataFrame[summary: string, Book_Title: string, Book_Author: string, Book_Rating: string, Book_Genre: string, Book_Price: string, Book_Cover_Type: string, Book_Ranks: string, Book_Release_Year: string, Book_Review_Number: string]"
            ]
          },
          "metadata": {},
          "execution_count": 557
        }
      ]
    },
    {
      "cell_type": "code",
      "source": [
        "#changing the year column from float to int \n",
        "book_df = book_df.withColumn(\"Book_Release_year\",col(\"Book_Release_year\").cast(\"int\"))\n",
        "book_df.show()\n"
      ],
      "metadata": {
        "id": "BzjUTx64-8db",
        "colab": {
          "base_uri": "https://localhost:8080/"
        },
        "outputId": "11f07feb-7b52-45c4-c4b9-d29df874cd97"
      },
      "execution_count": null,
      "outputs": [
        {
          "output_type": "stream",
          "name": "stdout",
          "text": [
            "+--------------------+----------------+-----------+-----------+----------+---------------+----------+-----------------+------------------+\n",
            "|          Book_Title|     Book_Author|Book_Rating| Book_Genre|Book_Price|Book_Cover_Type|Book_Ranks|Book_Release_year|Book_Review_Number|\n",
            "+--------------------+----------------+-----------+-----------+----------+---------------+----------+-----------------+------------------+\n",
            "|     The Lost Symbol|       Dan Brown|        4.4|    Fiction|     12.49|      Hardcover|       1.0|             2009|            16,118|\n",
            "|The Shack: Where ...|William P. Young|        4.7|    Fiction|      13.4|      Paperback|       2.0|             2009|            23,392|\n",
            "|Liberty and Tyran...|   Mark R. Levin|        4.8|Non Fiction|      9.93|      Hardcover|       3.0|             2009|             5,036|\n",
            "|Breaking Dawn (Th...| Stephenie Meyer|        4.7|    Fiction|      14.3|      Hardcover|       4.0|             2009|            16,912|\n",
            "|Going Rogue: An A...|     Sarah Palin|        4.6|Non Fiction|      9.99|      Hardcover|       5.0|             2009|             1,572|\n",
            "| StrengthsFinder 2.0|          Gallup|        4.1|Non Fiction|     18.29|      Hardcover|       6.0|             2009|             7,082|\n",
            "|            The Help|Kathryn Stockett|        4.8|    Fiction|     12.66|      Hardcover|       7.0|             2009|            18,068|\n",
            "|New Moon (The Twi...| Stephenie Meyer|        4.7|    Fiction|     17.56|      Paperback|       8.0|             2009|            12,329|\n",
            "|The Twilight Saga...| Stephenie Meyer|        4.7|    Fiction|      58.9|      Hardcover|       9.0|             2009|             6,100|\n",
            "|Outliers: The Sto...|Malcolm Gladwell|        4.7|Non Fiction|     16.04|      Hardcover|      10.0|             2009|            22,209|\n",
            "|  Eclipse (Twilight)| Stephenie Meyer|        4.7|    Fiction|     19.62|      Hardcover|      11.0|             2009|            12,771|\n",
            "|Twilight (The Twi...| Stephenie Meyer|        4.7|    Fiction|     15.49|      Paperback|      12.0|             2009|            22,103|\n",
            "|Glenn Beck's Comm...|      Glenn Beck|        4.6|Non Fiction|      5.91|      Paperback|      13.0|             2009|             1,421|\n",
            "|Three Cups of Tea...|  Greg Mortenson|        4.4|Non Fiction|     11.49|      Paperback|      14.0|             2009|             3,497|\n",
            "|       The Love Dare|Stephen Kendrick|        4.8|Non Fiction|     11.78|      Paperback|      15.0|             2009|             3,298|\n",
            "|Act Like a Lady, ...|    Steve Harvey|        4.6|Non Fiction|     20.45|      Hardcover|      16.0|             2009|             7,043|\n",
            "|Dog Days (Diary o...|     Jeff Kinney|        4.7|    Fiction|      11.6|      Hardcover|      17.0|             2009|             7,979|\n",
            "|Under the Dome: A...|    Stephen King|        4.4|    Fiction|     31.61|      Hardcover|      18.0|             2009|             9,110|\n",
            "|The Guernsey Lite...|Mary Ann Shaffer|        4.7|    Fiction|     10.42|      Paperback|      19.0|             2009|            14,884|\n",
            "|Eat This Not That...| David Zinczenko|        4.5|Non Fiction|     10.76|      Paperback|      20.0|             2009|               929|\n",
            "+--------------------+----------------+-----------+-----------+----------+---------------+----------+-----------------+------------------+\n",
            "only showing top 20 rows\n",
            "\n"
          ]
        }
      ]
    },
    {
      "cell_type": "code",
      "source": [
        "#changing rank column into integer\n",
        "book_df = book_df.withColumn(\"Book_Ranks\", col(\"Book_Ranks\").cast(\"int\"))\n",
        "book_df.show()"
      ],
      "metadata": {
        "id": "Ifw7-XJWcjPj",
        "colab": {
          "base_uri": "https://localhost:8080/"
        },
        "outputId": "b988a596-6974-430b-943c-c85f5794388c"
      },
      "execution_count": null,
      "outputs": [
        {
          "output_type": "stream",
          "name": "stdout",
          "text": [
            "+--------------------+----------------+-----------+-----------+----------+---------------+----------+-----------------+------------------+\n",
            "|          Book_Title|     Book_Author|Book_Rating| Book_Genre|Book_Price|Book_Cover_Type|Book_Ranks|Book_Release_year|Book_Review_Number|\n",
            "+--------------------+----------------+-----------+-----------+----------+---------------+----------+-----------------+------------------+\n",
            "|     The Lost Symbol|       Dan Brown|        4.4|    Fiction|     12.49|      Hardcover|         1|             2009|            16,118|\n",
            "|The Shack: Where ...|William P. Young|        4.7|    Fiction|      13.4|      Paperback|         2|             2009|            23,392|\n",
            "|Liberty and Tyran...|   Mark R. Levin|        4.8|Non Fiction|      9.93|      Hardcover|         3|             2009|             5,036|\n",
            "|Breaking Dawn (Th...| Stephenie Meyer|        4.7|    Fiction|      14.3|      Hardcover|         4|             2009|            16,912|\n",
            "|Going Rogue: An A...|     Sarah Palin|        4.6|Non Fiction|      9.99|      Hardcover|         5|             2009|             1,572|\n",
            "| StrengthsFinder 2.0|          Gallup|        4.1|Non Fiction|     18.29|      Hardcover|         6|             2009|             7,082|\n",
            "|            The Help|Kathryn Stockett|        4.8|    Fiction|     12.66|      Hardcover|         7|             2009|            18,068|\n",
            "|New Moon (The Twi...| Stephenie Meyer|        4.7|    Fiction|     17.56|      Paperback|         8|             2009|            12,329|\n",
            "|The Twilight Saga...| Stephenie Meyer|        4.7|    Fiction|      58.9|      Hardcover|         9|             2009|             6,100|\n",
            "|Outliers: The Sto...|Malcolm Gladwell|        4.7|Non Fiction|     16.04|      Hardcover|        10|             2009|            22,209|\n",
            "|  Eclipse (Twilight)| Stephenie Meyer|        4.7|    Fiction|     19.62|      Hardcover|        11|             2009|            12,771|\n",
            "|Twilight (The Twi...| Stephenie Meyer|        4.7|    Fiction|     15.49|      Paperback|        12|             2009|            22,103|\n",
            "|Glenn Beck's Comm...|      Glenn Beck|        4.6|Non Fiction|      5.91|      Paperback|        13|             2009|             1,421|\n",
            "|Three Cups of Tea...|  Greg Mortenson|        4.4|Non Fiction|     11.49|      Paperback|        14|             2009|             3,497|\n",
            "|       The Love Dare|Stephen Kendrick|        4.8|Non Fiction|     11.78|      Paperback|        15|             2009|             3,298|\n",
            "|Act Like a Lady, ...|    Steve Harvey|        4.6|Non Fiction|     20.45|      Hardcover|        16|             2009|             7,043|\n",
            "|Dog Days (Diary o...|     Jeff Kinney|        4.7|    Fiction|      11.6|      Hardcover|        17|             2009|             7,979|\n",
            "|Under the Dome: A...|    Stephen King|        4.4|    Fiction|     31.61|      Hardcover|        18|             2009|             9,110|\n",
            "|The Guernsey Lite...|Mary Ann Shaffer|        4.7|    Fiction|     10.42|      Paperback|        19|             2009|            14,884|\n",
            "|Eat This Not That...| David Zinczenko|        4.5|Non Fiction|     10.76|      Paperback|        20|             2009|               929|\n",
            "+--------------------+----------------+-----------+-----------+----------+---------------+----------+-----------------+------------------+\n",
            "only showing top 20 rows\n",
            "\n"
          ]
        }
      ]
    },
    {
      "cell_type": "code",
      "source": [
        "# Show the dataframe after deleting a rows\n",
        "book_df.show()"
      ],
      "metadata": {
        "id": "vMJTfaz55s9C",
        "colab": {
          "base_uri": "https://localhost:8080/"
        },
        "outputId": "75a55f13-50a1-4214-b8ed-6a2da9df592a"
      },
      "execution_count": null,
      "outputs": [
        {
          "output_type": "stream",
          "name": "stdout",
          "text": [
            "+--------------------+----------------+-----------+-----------+----------+---------------+----------+-----------------+------------------+\n",
            "|          Book_Title|     Book_Author|Book_Rating| Book_Genre|Book_Price|Book_Cover_Type|Book_Ranks|Book_Release_year|Book_Review_Number|\n",
            "+--------------------+----------------+-----------+-----------+----------+---------------+----------+-----------------+------------------+\n",
            "|     The Lost Symbol|       Dan Brown|        4.4|    Fiction|     12.49|      Hardcover|         1|             2009|            16,118|\n",
            "|The Shack: Where ...|William P. Young|        4.7|    Fiction|      13.4|      Paperback|         2|             2009|            23,392|\n",
            "|Liberty and Tyran...|   Mark R. Levin|        4.8|Non Fiction|      9.93|      Hardcover|         3|             2009|             5,036|\n",
            "|Breaking Dawn (Th...| Stephenie Meyer|        4.7|    Fiction|      14.3|      Hardcover|         4|             2009|            16,912|\n",
            "|Going Rogue: An A...|     Sarah Palin|        4.6|Non Fiction|      9.99|      Hardcover|         5|             2009|             1,572|\n",
            "| StrengthsFinder 2.0|          Gallup|        4.1|Non Fiction|     18.29|      Hardcover|         6|             2009|             7,082|\n",
            "|            The Help|Kathryn Stockett|        4.8|    Fiction|     12.66|      Hardcover|         7|             2009|            18,068|\n",
            "|New Moon (The Twi...| Stephenie Meyer|        4.7|    Fiction|     17.56|      Paperback|         8|             2009|            12,329|\n",
            "|The Twilight Saga...| Stephenie Meyer|        4.7|    Fiction|      58.9|      Hardcover|         9|             2009|             6,100|\n",
            "|Outliers: The Sto...|Malcolm Gladwell|        4.7|Non Fiction|     16.04|      Hardcover|        10|             2009|            22,209|\n",
            "|  Eclipse (Twilight)| Stephenie Meyer|        4.7|    Fiction|     19.62|      Hardcover|        11|             2009|            12,771|\n",
            "|Twilight (The Twi...| Stephenie Meyer|        4.7|    Fiction|     15.49|      Paperback|        12|             2009|            22,103|\n",
            "|Glenn Beck's Comm...|      Glenn Beck|        4.6|Non Fiction|      5.91|      Paperback|        13|             2009|             1,421|\n",
            "|Three Cups of Tea...|  Greg Mortenson|        4.4|Non Fiction|     11.49|      Paperback|        14|             2009|             3,497|\n",
            "|       The Love Dare|Stephen Kendrick|        4.8|Non Fiction|     11.78|      Paperback|        15|             2009|             3,298|\n",
            "|Act Like a Lady, ...|    Steve Harvey|        4.6|Non Fiction|     20.45|      Hardcover|        16|             2009|             7,043|\n",
            "|Dog Days (Diary o...|     Jeff Kinney|        4.7|    Fiction|      11.6|      Hardcover|        17|             2009|             7,979|\n",
            "|Under the Dome: A...|    Stephen King|        4.4|    Fiction|     31.61|      Hardcover|        18|             2009|             9,110|\n",
            "|The Guernsey Lite...|Mary Ann Shaffer|        4.7|    Fiction|     10.42|      Paperback|        19|             2009|            14,884|\n",
            "|Eat This Not That...| David Zinczenko|        4.5|Non Fiction|     10.76|      Paperback|        20|             2009|               929|\n",
            "+--------------------+----------------+-----------+-----------+----------+---------------+----------+-----------------+------------------+\n",
            "only showing top 20 rows\n",
            "\n"
          ]
        }
      ]
    },
    {
      "cell_type": "markdown",
      "source": [
        "-------------------Data Analysing----------------------"
      ],
      "metadata": {
        "id": "KpbJEml0eSZf"
      }
    },
    {
      "cell_type": "code",
      "source": [
        "#print schema\n",
        "book_df.printSchema()"
      ],
      "metadata": {
        "id": "1zpdR-Tce5oh",
        "colab": {
          "base_uri": "https://localhost:8080/"
        },
        "outputId": "5c10ebbe-b908-4398-d943-d6a43eac7b1c"
      },
      "execution_count": null,
      "outputs": [
        {
          "output_type": "stream",
          "name": "stdout",
          "text": [
            "root\n",
            " |-- Book_Title: string (nullable = true)\n",
            " |-- Book_Author: string (nullable = true)\n",
            " |-- Book_Rating: string (nullable = true)\n",
            " |-- Book_Genre: string (nullable = true)\n",
            " |-- Book_Price: double (nullable = true)\n",
            " |-- Book_Cover_Type: string (nullable = true)\n",
            " |-- Book_Ranks: integer (nullable = true)\n",
            " |-- Book_Release_year: integer (nullable = true)\n",
            " |-- Book_Review_Number: string (nullable = true)\n",
            "\n"
          ]
        }
      ]
    },
    {
      "cell_type": "code",
      "source": [
        "#Rating of book by book title\n",
        "book_df.groupby(\"Book_Title\",\"Book_Rating\").count().show()"
      ],
      "metadata": {
        "id": "YkFJd-9rCda5",
        "colab": {
          "base_uri": "https://localhost:8080/"
        },
        "outputId": "e52ebb51-97a0-459e-f576-78e5e54b21c8"
      },
      "execution_count": null,
      "outputs": [
        {
          "output_type": "stream",
          "name": "stdout",
          "text": [
            "+--------------------+-----------+-----+\n",
            "|          Book_Title|Book_Rating|count|\n",
            "+--------------------+-----------+-----+\n",
            "|Magnus Chase and ...|        4.7|    1|\n",
            "|Burn After Writin...|        4.6|    1|\n",
            "|The Serpent's Sha...|        4.8|    1|\n",
            "|Miss Peregrine's ...|        4.5|    1|\n",
            "|The Omnivore's Di...|        4.6|    2|\n",
            "|The 4 Hour Body: ...|        4.4|    2|\n",
            "|Go Set a Watchman...|        3.7|    1|\n",
            "|Magnus Chase and ...|        4.7|    1|\n",
            "|Fire and Fury: In...|        4.2|    1|\n",
            "|A Dance with Drag...|        4.5|    2|\n",
            "|What Happened to ...|        4.7|    1|\n",
            "|Keep Sharp: Build...|        4.7|    1|\n",
            "|Liberty and Tyran...|        4.8|    1|\n",
            "|Harry Potter and ...|        4.9|    2|\n",
            "|Change Sings: A C...|        4.9|    1|\n",
            "|Towers of Midnigh...|        4.8|    1|\n",
            "|Last Week Tonight...|        4.9|    1|\n",
            "|   Little Blue Truck|        4.9|    2|\n",
            "|The Five Dysfunct...|        4.6|    8|\n",
            "|Diary of a Wimpy ...|        4.8|    1|\n",
            "+--------------------+-----------+-----+\n",
            "only showing top 20 rows\n",
            "\n"
          ]
        }
      ]
    },
    {
      "cell_type": "code",
      "source": [
        "#showing the books with the highest rating\n",
        "highest_rating = book_df.orderBy(\"Book_Rating\", ascending=False).show()"
      ],
      "metadata": {
        "id": "2JwVxdT6hr7q",
        "colab": {
          "base_uri": "https://localhost:8080/"
        },
        "outputId": "81c5b8d1-c357-4913-dff8-cc78e3bd1457"
      },
      "execution_count": null,
      "outputs": [
        {
          "output_type": "stream",
          "name": "stdout",
          "text": [
            "+--------------------+--------------------+-----------+-----------+----------+---------------+----------+-----------------+------------------+\n",
            "|          Book_Title|         Book_Author|Book_Rating| Book_Genre|Book_Price|Book_Cover_Type|Book_Ranks|Book_Release_year|Book_Review_Number|\n",
            "+--------------------+--------------------+-----------+-----------+----------+---------------+----------+-----------------+------------------+\n",
            "|Jesus Calling, Pa...|         Sarah Young|        4.9|Non Fiction|      7.53|      Hardcover|        21|             2011|            31,196|\n",
            "|The Very Hungry C...|          Eric Carle|        4.9|    Fiction|      4.93|     Board book|        39|             2014|            54,008|\n",
            "|   Every Thing On It|    Shel Silverstein|        4.9|    Fiction|     11.99|      Hardcover|        56|             2011|             1,753|\n",
            "|Jesus Calling, Pa...|         Sarah Young|        4.9|Non Fiction|      7.53|      Hardcover|        72|             2010|            31,196|\n",
            "|Oh, the Places Yo...|           Dr. Seuss|        4.9|    Fiction|      8.48|      Hardcover|        69|             2011|            42,848|\n",
            "|The Legend of Zel...|      Patrick Thorpe|        4.9|    Fiction|      32.0|      Hardcover|        27|             2013|             9,588|\n",
            "|   Little Blue Truck|      Alice Schertle|        4.9|    Fiction|      9.99|     Board book|        29|             2014|             1,958|\n",
            "|Goodnight, Goodni...|Sherri Duskey Rinker|        4.9|    Fiction|     14.48|      Hardcover|        35|             2013|            20,089|\n",
            "|Harry Potter Pape...|       J. K. Rowling|        4.9|    Fiction|     38.86|      Paperback|        78|             2011|            91,628|\n",
            "|The Very Hungry C...|          Eric Carle|        4.9|    Fiction|      4.93|     Board book|        41|             2013|            54,008|\n",
            "|Goodnight, Goodni...|Sherri Duskey Rinker|        4.9|    Fiction|     14.48|      Hardcover|        36|             2012|            20,089|\n",
            "|    Love You Forever|       Robert Munsch|        4.9|    Fiction|      4.98|      Paperback|        69|             2013|            53,161|\n",
            "|The Jesus Storybo...|   Sally Lloyd-Jones|        4.9|Non Fiction|     15.79|      Hardcover|        79|             2012|            11,859|\n",
            "|The Jesus Storybo...|   Sally Lloyd-Jones|        4.9|Non Fiction|     15.79|      Hardcover|        74|             2013|            11,859|\n",
            "|Jesus Calling, Pa...|         Sarah Young|        4.9|Non Fiction|      7.53|      Hardcover|         5|             2013|            31,196|\n",
            "|Jesus Calling, Pa...|         Sarah Young|        4.9|Non Fiction|      7.53|      Hardcover|         8|             2014|            31,196|\n",
            "|Where the Wild Th...|      Maurice Sendak|        4.9|    Fiction|      13.2|      Hardcover|        31|             2009|            32,044|\n",
            "|Oh, the Places Yo...|           Dr. Seuss|        4.9|    Fiction|      8.48|      Hardcover|        14|             2014|            42,848|\n",
            "|Jesus Calling, Pa...|         Sarah Young|        4.9|Non Fiction|      7.53|      Hardcover|        46|             2012|            31,196|\n",
            "|Rush Revere and t...|       Rush Limbaugh|        4.9|    Fiction|      9.99|      Hardcover|        24|             2014|             5,033|\n",
            "+--------------------+--------------------+-----------+-----------+----------+---------------+----------+-----------------+------------------+\n",
            "only showing top 20 rows\n",
            "\n"
          ]
        }
      ]
    },
    {
      "cell_type": "code",
      "source": [
        "#count of books for each author \n",
        "author_count = book_df.groupBy(\"Book_Author\").count().orderBy(\"count\", ascending=False).show()\n"
      ],
      "metadata": {
        "id": "DMwZ4OAQDPeT",
        "colab": {
          "base_uri": "https://localhost:8080/"
        },
        "outputId": "c2aaa0d1-ae36-44a5-ea0b-2a276efe058a"
      },
      "execution_count": null,
      "outputs": [
        {
          "output_type": "stream",
          "name": "stdout",
          "text": [
            "+--------------------+-----+\n",
            "|         Book_Author|count|\n",
            "+--------------------+-----+\n",
            "|        Rick Riordan|   20|\n",
            "|     Suzanne Collins|   17|\n",
            "|         Jeff Kinney|   17|\n",
            "|        John Grisham|   15|\n",
            "|        Gary Chapman|   13|\n",
            "|           Dr. Seuss|   13|\n",
            "|              Gallup|   13|\n",
            "|American Psycholo...|   13|\n",
            "|     Bill Martin Jr.|   12|\n",
            "|    Malcolm Gladwell|   12|\n",
            "|        Paulo Coelho|   11|\n",
            "|   The College Board|   11|\n",
            "|          Dav Pilkey|   11|\n",
            "|         Brené Brown|   11|\n",
            "|    Stephen R. Covey|   10|\n",
            "|         Rob Elliott|   10|\n",
            "|     Stephenie Meyer|   10|\n",
            "|     Don Miguel Ruiz|   10|\n",
            "|          Harper Lee|    9|\n",
            "|          John Green|    9|\n",
            "+--------------------+-----+\n",
            "only showing top 20 rows\n",
            "\n"
          ]
        }
      ]
    },
    {
      "cell_type": "code",
      "source": [
        "#displaying avg price by book's title\n",
        "avg_price_by_book = book_df.groupBy(\"Book_Title\").agg({\"Book_Price\": \"avg\"}).orderBy(\"avg(Book_Price)\", ascending=False).show(15)\n"
      ],
      "metadata": {
        "id": "Hz-3wr1UF4tM",
        "colab": {
          "base_uri": "https://localhost:8080/"
        },
        "outputId": "86ad62b3-3fba-464e-e42b-a825d296a12f"
      },
      "execution_count": null,
      "outputs": [
        {
          "output_type": "stream",
          "name": "stdout",
          "text": [
            "+--------------------+---------------+\n",
            "|          Book_Title|avg(Book_Price)|\n",
            "+--------------------+---------------+\n",
            "|Diagnostic and St...|          144.0|\n",
            "|   Sookie Stackhouse|          82.15|\n",
            "|MyMathLab: Studen...|          75.49|\n",
            "|Minecraft: The Co...|           65.0|\n",
            "|Divergent / Insur...|           62.5|\n",
            "|The Hunger Games ...|           59.9|\n",
            "|The Twilight Saga...|           58.9|\n",
            "|Game of Thrones B...|          54.98|\n",
            "|The World of Ice ...|          53.99|\n",
            "|             Decoded|          44.99|\n",
            "|A Patriot's Histo...|           44.5|\n",
            "|The Official Guid...|          39.99|\n",
            "|Harry Potter Pape...|          38.86|\n",
            "|Becoming a Supple...|          35.47|\n",
            "|The Belly Fat Cur...|           35.3|\n",
            "+--------------------+---------------+\n",
            "only showing top 15 rows\n",
            "\n"
          ]
        }
      ]
    },
    {
      "cell_type": "code",
      "source": [
        "#average rating by book gener\n",
        "avg_rating_by_gene = book_df.groupBy('Book_Genre').agg(avg('Book_Rating'))\n",
        "avg_rating_by_gene.show()"
      ],
      "metadata": {
        "id": "JQY_Vkj6pOsq",
        "colab": {
          "base_uri": "https://localhost:8080/"
        },
        "outputId": "30dc81b0-a6d3-4afe-e4dc-1152c280f221"
      },
      "execution_count": null,
      "outputs": [
        {
          "output_type": "stream",
          "name": "stdout",
          "text": [
            "+-----------+-----------------+\n",
            "| Book_Genre| avg(Book_Rating)|\n",
            "+-----------+-----------------+\n",
            "|    Fiction|4.673750000000019|\n",
            "|Non Fiction|4.633841886269072|\n",
            "+-----------+-----------------+\n",
            "\n"
          ]
        }
      ]
    }
  ]
}